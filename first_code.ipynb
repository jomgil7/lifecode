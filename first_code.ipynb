{
  "nbformat": 4,
  "nbformat_minor": 0,
  "metadata": {
    "colab": {
      "provenance": [],
      "authorship_tag": "ABX9TyPfMairsTaw970z6H6sBGt9",
      "include_colab_link": true
    },
    "kernelspec": {
      "name": "python3",
      "display_name": "Python 3"
    },
    "language_info": {
      "name": "python"
    }
  },
  "cells": [
    {
      "cell_type": "markdown",
      "metadata": {
        "id": "view-in-github",
        "colab_type": "text"
      },
      "source": [
        "<a href=\"https://colab.research.google.com/github/jomgil7/lifecode/blob/main/first_code.ipynb\" target=\"_parent\"><img src=\"https://colab.research.google.com/assets/colab-badge.svg\" alt=\"Open In Colab\"/></a>"
      ]
    },
    {
      "cell_type": "markdown",
      "source": [
        "생에 나의 첫 번째 코드"
      ],
      "metadata": {
        "id": "sq5QlToIzv6o"
      }
    },
    {
      "cell_type": "code",
      "execution_count": 4,
      "metadata": {
        "colab": {
          "base_uri": "https://localhost:8080/"
        },
        "id": "n3ZFBDXuyxQt",
        "outputId": "0fc5acc6-97cc-46af-cebd-3c8544affb08"
      },
      "outputs": [
        {
          "output_type": "stream",
          "name": "stdout",
          "text": [
            "jongil\n"
          ]
        }
      ],
      "source": [
        "name=\"jongil\";\n",
        "print(name)"
      ]
    },
    {
      "cell_type": "markdown",
      "source": [
        "코딩 두번째 , Hello World! 만들기"
      ],
      "metadata": {
        "id": "Ted1NrIT28Jk"
      }
    },
    {
      "cell_type": "code",
      "source": [
        "name=\"Hello World!\"\n",
        "print(name)"
      ],
      "metadata": {
        "colab": {
          "base_uri": "https://localhost:8080/"
        },
        "id": "M_KYX2xl27zV",
        "outputId": "f89fcf5a-ac9c-4deb-bd7d-9b77eb832c11"
      },
      "execution_count": 7,
      "outputs": [
        {
          "output_type": "stream",
          "name": "stdout",
          "text": [
            "Hello World!\n"
          ]
        }
      ]
    }
  ]
}